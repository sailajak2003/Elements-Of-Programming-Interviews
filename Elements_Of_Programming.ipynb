{
  "nbformat": 4,
  "nbformat_minor": 0,
  "metadata": {
    "colab": {
      "name": "Elements Of Programming.ipynb",
      "provenance": [],
      "authorship_tag": "ABX9TyN8tnX1+kvfNXrJVq8GRksn"
    },
    "kernelspec": {
      "name": "python3",
      "display_name": "Python 3"
    }
  },
  "cells": [
    {
      "cell_type": "markdown",
      "metadata": {
        "id": "8mCJevatFm_9"
      },
      "source": [
        "Arrays"
      ]
    },
    {
      "cell_type": "markdown",
      "metadata": {
        "id": "boQYRsW5Fp73"
      },
      "source": [
        "even_odd"
      ]
    },
    {
      "cell_type": "code",
      "metadata": {
        "id": "y751wIOJFoe8"
      },
      "source": [
        "def even_odd(A):\n",
        "  even,odd = 0,len(A)-1\n",
        "  while even < odd:\n",
        "    if A[even]%2==0:\n",
        "      even += 1\n",
        "    else:\n",
        "      A[even],A[odd] = A[odd],A[even]\n",
        "      odd-=1\n",
        "  return A"
      ],
      "execution_count": 7,
      "outputs": []
    },
    {
      "cell_type": "code",
      "metadata": {
        "id": "P4an1YGPHCSg",
        "outputId": "2773feeb-94e2-43c8-b5ca-18b83fea8d03",
        "colab": {
          "base_uri": "https://localhost:8080/"
        }
      },
      "source": [
        "even_odd([5,8,3,2,9,6])"
      ],
      "execution_count": 8,
      "outputs": [
        {
          "output_type": "execute_result",
          "data": {
            "text/plain": [
              "[6, 8, 2, 9, 3, 5]"
            ]
          },
          "metadata": {
            "tags": []
          },
          "execution_count": 8
        }
      ]
    },
    {
      "cell_type": "code",
      "metadata": {
        "id": "6H36WCTLHcID"
      },
      "source": [
        ""
      ],
      "execution_count": null,
      "outputs": []
    }
  ]
}