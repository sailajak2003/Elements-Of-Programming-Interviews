{
  "nbformat": 4,
  "nbformat_minor": 0,
  "metadata": {
    "colab": {
      "name": "leetcode.ipynb",
      "provenance": [],
      "authorship_tag": "ABX9TyNHengNPW1/E7pcUFLyPzD2"
    },
    "kernelspec": {
      "name": "python3",
      "display_name": "Python 3"
    }
  },
  "cells": [
    {
      "cell_type": "code",
      "metadata": {
        "id": "8DTxpF89_I7Y",
        "colab_type": "code",
        "colab": {}
      },
      "source": [
        "# 485. Max Consecutive Ones\n",
        "\n",
        "class Solution:\n",
        "    def findMaxConsecutiveOnes(self, nums: List[int]) -> int:\n",
        "        n=len(nums)\n",
        "        count=0\n",
        "        result=0\n",
        "        for i in range(0,n):\n",
        "            if nums[i]==0:\n",
        "                count=0\n",
        "            else:\n",
        "                count+=1\n",
        "                result=max(result,count)\n",
        "        return result\n",
        "                "
      ],
      "execution_count": 1,
      "outputs": []
    },
    {
      "cell_type": "code",
      "metadata": {
        "id": "gEKfu3JC_cZr",
        "colab_type": "code",
        "colab": {}
      },
      "source": [
        "# 1295. Find Numbers with Even Number of Digits\n",
        "\n",
        "class Solution:\n",
        "    def findNumbers(self, nums: List[int]) -> int:\n",
        "        count=0\n",
        "        for i in nums:\n",
        "            if len(str(i))%2==0:\n",
        "                count+=1\n",
        "        return count\n",
        "        "
      ],
      "execution_count": 4,
      "outputs": []
    },
    {
      "cell_type": "code",
      "metadata": {
        "id": "QGpUWNy7Ap71",
        "colab_type": "code",
        "colab": {}
      },
      "source": [
        "# 977. Squares of a Sorted Array\n",
        "class Solution:\n",
        "    def sortedSquares(self, A: List[int]) -> List[int]:\n",
        "        for i in range(len(A)):\n",
        "            A[i]=A[i]*A[i]\n",
        "        return (sorted(A))"
      ],
      "execution_count": 5,
      "outputs": []
    },
    {
      "cell_type": "code",
      "metadata": {
        "id": "BFm0yeq6BDC1",
        "colab_type": "code",
        "colab": {}
      },
      "source": [
        ""
      ],
      "execution_count": null,
      "outputs": []
    }
  ]
}