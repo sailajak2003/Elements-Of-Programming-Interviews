{
  "nbformat": 4,
  "nbformat_minor": 0,
  "metadata": {
    "colab": {
      "name": "leetcode.ipynb",
      "provenance": [],
      "authorship_tag": "ABX9TyOKJT/HQY2VIhnogEj4XfZe",
      "include_colab_link": true
    },
    "kernelspec": {
      "name": "python3",
      "display_name": "Python 3"
    }
  },
  "cells": [
    {
      "cell_type": "markdown",
      "metadata": {
        "id": "view-in-github",
        "colab_type": "text"
      },
      "source": [
        "<a href=\"https://colab.research.google.com/github/sailajakarra/leetcode/blob/master/leetcode.ipynb\" target=\"_parent\"><img src=\"https://colab.research.google.com/assets/colab-badge.svg\" alt=\"Open In Colab\"/></a>"
      ]
    },
    {
      "cell_type": "code",
      "metadata": {
        "id": "8DTxpF89_I7Y",
        "colab_type": "code",
        "colab": {}
      },
      "source": [
        "# 485. Max Consecutive Ones\n",
        "\n",
        "class Solution:\n",
        "    def findMaxConsecutiveOnes(self, nums: List[int]) -> int:\n",
        "        n=len(nums)\n",
        "        count=0\n",
        "        result=0\n",
        "        for i in range(0,n):\n",
        "            if nums[i]==0:\n",
        "                count=0\n",
        "            else:\n",
        "                count+=1\n",
        "                result=max(result,count)\n",
        "        return result\n",
        "                "
      ],
      "execution_count": 1,
      "outputs": []
    },
    {
      "cell_type": "code",
      "metadata": {
        "id": "gEKfu3JC_cZr",
        "colab_type": "code",
        "colab": {}
      },
      "source": [
        ""
      ],
      "execution_count": null,
      "outputs": []
    }
  ]
}