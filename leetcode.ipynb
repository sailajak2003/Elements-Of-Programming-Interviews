{
  "nbformat": 4,
  "nbformat_minor": 0,
  "metadata": {
    "colab": {
      "name": "leetcode.ipynb",
      "provenance": [],
      "authorship_tag": "ABX9TyOq+9TfMIkPaNDWYny4HqCn"
    },
    "kernelspec": {
      "name": "python3",
      "display_name": "Python 3"
    }
  },
  "cells": [
    {
      "cell_type": "code",
      "metadata": {
        "id": "8DTxpF89_I7Y",
        "colab_type": "code",
        "colab": {}
      },
      "source": [
        "# 485. Max Consecutive Ones\n",
        "\n",
        "class Solution:\n",
        "    def findMaxConsecutiveOnes(self, nums: List[int]) -> int:\n",
        "        n=len(nums)\n",
        "        count=0\n",
        "        result=0\n",
        "        for i in range(0,n):\n",
        "            if nums[i]==0:\n",
        "                count=0\n",
        "            else:\n",
        "                count+=1\n",
        "                result=max(result,count)\n",
        "        return result\n",
        "                "
      ],
      "execution_count": 1,
      "outputs": []
    },
    {
      "cell_type": "code",
      "metadata": {
        "id": "gEKfu3JC_cZr",
        "colab_type": "code",
        "colab": {}
      },
      "source": [
        "# 1295. Find Numbers with Even Number of Digits\n",
        "\n",
        "class Solution:\n",
        "    def findNumbers(self, nums: List[int]) -> int:\n",
        "        count=0\n",
        "        for i in nums:\n",
        "            if len(str(i))%2==0:\n",
        "                count+=1\n",
        "        return count\n",
        "        "
      ],
      "execution_count": 4,
      "outputs": []
    },
    {
      "cell_type": "code",
      "metadata": {
        "id": "QGpUWNy7Ap71",
        "colab_type": "code",
        "colab": {}
      },
      "source": [
        "# 977. Squares of a Sorted Array\n",
        "class Solution:\n",
        "    def sortedSquares(self, A: List[int]) -> List[int]:\n",
        "        for i in range(len(A)):\n",
        "            A[i]=A[i]*A[i]\n",
        "        return (sorted(A))"
      ],
      "execution_count": 5,
      "outputs": []
    },
    {
      "cell_type": "code",
      "metadata": {
        "id": "BFm0yeq6BDC1",
        "colab_type": "code",
        "colab": {}
      },
      "source": [
        "# 1089. Duplicate Zeros\n",
        "class Solution:\n",
        "    def duplicateZeros(self, arr: List[int]) -> None:\n",
        "        \"\"\"\n",
        "        Do not return anything, modify arr in-place instead.\n",
        "        \"\"\"\n",
        "        if arr:\n",
        "            n=len(arr)\n",
        "            i=0\n",
        "            while i<n:\n",
        "                if arr[i]!=0:\n",
        "                    i+=1\n",
        "                    continue\n",
        "                else:\n",
        "                    arr.insert(i,0)\n",
        "                    arr.pop(-1)\n",
        "                    i=i+2\n",
        "        "
      ],
      "execution_count": 6,
      "outputs": []
    },
    {
      "cell_type": "code",
      "metadata": {
        "id": "JPdTBneQBWGX",
        "colab_type": "code",
        "colab": {}
      },
      "source": [
        ""
      ],
      "execution_count": null,
      "outputs": []
    }
  ]
}